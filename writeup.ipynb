{
 "cells": [
  {
   "cell_type": "markdown",
   "metadata": {
    "collapsed": true,
    "pycharm": {
     "name": "#%% md\n"
    }
   },
   "source": [
    "# CMSC422 Assignment2\n",
    "Siyuan Peng : 116243407\n",
    "Shi Jiunn Teo : 0000000"
   ]
  },
  {
   "cell_type": "markdown",
   "source": [
    "### WU1"
   ],
   "metadata": {
    "collapsed": false,
    "pycharm": {
     "name": "#%% md\n"
    }
   }
  },
  {
   "cell_type": "markdown",
   "source": [
    "### WU2"
   ],
   "metadata": {
    "collapsed": false
   }
  },
  {
   "cell_type": "markdown",
   "source": [
    "### WU3: What is the impact of the step size on convergence? Find values of the step size where the algorithm diverges and converges.\n",
    "The step size should be at least positive. If it's negative, the model will move to the direction of gradient instead of\n",
    "the opposite direction of gradient. If step size is too small, model will converge slowly. If the step size is too large, model\n",
    "will eventully diverge.\n",
    "## WU4:Plot the function you're trying to minimize and show two runs of gd"
   ],
   "metadata": {
    "collapsed": false
   }
  },
  {
   "cell_type": "code",
   "execution_count": 1,
   "outputs": [
    {
     "data": {
      "text/plain": "array([5.        , 3.8408    , 3.79472351, 3.78298828, 3.77939548,\n       3.77812165, 3.77761632, 3.77739761, 3.77729617, 3.77724641,\n       3.77722084, 3.77720717, 3.77719961, 3.77719532, 3.77719281,\n       3.77719131, 3.7771904 , 3.77718983, 3.77718947, 3.77718925,\n       3.7771891 ])"
     },
     "execution_count": 1,
     "metadata": {},
     "output_type": "execute_result"
    }
   ],
   "source": [
    "import gd\n",
    "import numpy as np\n",
    "import matplotlib.pyplot as plt\n",
    "x, trajectory = gd.gd(lambda x: 0.5*(x**4)-3*(x**2)-2*x+5, lambda x: 2*(x**3)-6*x-2, -2, 20, 0.1)\n",
    "trajectory"
   ],
   "metadata": {
    "collapsed": false,
    "pycharm": {
     "name": "#%%\n"
    }
   }
  },
  {
   "cell_type": "code",
   "execution_count": 2,
   "outputs": [
    {
     "data": {
      "text/plain": "array([ 0.5       , -2.6032    , -3.10621994, -3.11696751, -3.1171967 ,\n       -3.1172097 , -3.11721098, -3.11721115, -3.11721118, -3.11721119,\n       -3.11721119, -3.11721119, -3.11721119, -3.11721119, -3.11721119,\n       -3.11721119, -3.11721119, -3.11721119, -3.11721119, -3.11721119,\n       -3.11721119])"
     },
     "execution_count": 2,
     "metadata": {},
     "output_type": "execute_result"
    }
   ],
   "source": [
    "x, trajectory = gd.gd(lambda x: 0.5*(x**4)-3*(x**2)-2*x+5, lambda x: 2*(x**3)-6*x-2, 1, 20, 0.1)\n",
    "trajectory"
   ],
   "metadata": {
    "collapsed": false,
    "pycharm": {
     "name": "#%%\n"
    }
   }
  },
  {
   "cell_type": "markdown",
   "source": [
    "#### Plot For None-convex Function"
   ],
   "metadata": {
    "collapsed": false,
    "pycharm": {
     "name": "#%% md\n"
    }
   }
  },
  {
   "cell_type": "code",
   "execution_count": 3,
   "outputs": [
    {
     "data": {
      "text/plain": "<Figure size 432x288 with 1 Axes>",
      "image/png": "[encoded data removed]"
     },
     "metadata": {
      "needs_background": "light"
     },
     "output_type": "display_data"
    }
   ],
   "source": [
    "x = np.linspace(-4,4)\n",
    "y = 0.5*(x**4)-3*(x**2)-2*x+5\n",
    "plt.plot(x, y)\n",
    "plt.ylim((-5,10))\n",
    "plt.title(\"Function of 0.5x^4-3x^2-2x+5\")\n",
    "plt.savefig('images/wu3-01.jpeg',)"
   ],
   "metadata": {
    "collapsed": false,
    "pycharm": {
     "name": "#%%\n"
    }
   }
  },
  {
   "cell_type": "markdown",
   "source": [
    "### WU5"
   ],
   "metadata": {
    "collapsed": false,
    "pycharm": {
     "name": "#%% md\n"
    }
   }
  },
  {
   "cell_type": "code",
   "execution_count": 13,
   "outputs": [],
   "source": [
    "import linear, datasets, runClassifier\n",
    "import numpy as np"
   ],
   "metadata": {
    "collapsed": false,
    "pycharm": {
     "name": "#%%\n"
    }
   }
  },
  {
   "cell_type": "markdown",
   "source": [
    "#### Classifier with mean squared loss"
   ],
   "metadata": {
    "collapsed": false
   }
  },
  {
   "cell_type": "code",
   "execution_count": 36,
   "outputs": [
    {
     "name": "stdout",
     "output_type": "stream",
     "text": [
      "Training accuracy 0.995951, test accuracy 0.97786\n"
     ]
    }
   ],
   "source": [
    "f = linear.LinearClassifier({'lossFunction': linear.SquaredLoss(), 'lambda': 1, 'numIter': 500, 'stepSize': 0.001})\n",
    "runClassifier.trainTestSet(f, datasets.WineDataBinary)\n",
    "weights = np.asarray(f.weights)"
   ],
   "metadata": {
    "collapsed": false,
    "pycharm": {
     "name": "#%%\n"
    }
   }
  },
  {
   "cell_type": "markdown",
   "source": [
    "#### Classifier with logistic loss"
   ],
   "metadata": {
    "collapsed": false
   }
  },
  {
   "cell_type": "code",
   "execution_count": 37,
   "outputs": [
    {
     "name": "stdout",
     "output_type": "stream",
     "text": [
      "Training accuracy 0.753036, test accuracy 0.686347\n"
     ]
    }
   ],
   "source": [
    "f = linear.LinearClassifier({'lossFunction': linear.LogisticLoss(), 'lambda': 1, 'numIter': 500, 'stepSize': 0.0001})\n",
    "runClassifier.trainTestSet(f, datasets.WineDataBinary)"
   ],
   "metadata": {
    "collapsed": false,
    "pycharm": {
     "name": "#%%\n"
    }
   }
  },
  {
   "cell_type": "markdown",
   "source": [
    "#### Classifier with Hingeloss"
   ],
   "metadata": {
    "collapsed": false
   }
  },
  {
   "cell_type": "code",
   "execution_count": 38,
   "outputs": [
    {
     "name": "stderr",
     "output_type": "stream",
     "text": [
      "E:\\ProgramData\\Miniconda3\\lib\\site-packages\\numpy\\core\\fromnumeric.py:87: VisibleDeprecationWarning: Creating an ndarray from ragged nested sequences (which is a list-or-tuple of lists-or-tuples-or ndarrays with different lengths or shapes) is deprecated. If you meant to do this, you must specify 'dtype=object' when creating the ndarray\n",
      "  return ufunc.reduce(obj, axis, dtype, out, **passkwargs)\n"
     ]
    },
    {
     "name": "stdout",
     "output_type": "stream",
     "text": [
      "Training accuracy 0.753036, test accuracy 0.686347\n"
     ]
    }
   ],
   "source": [
    "f = linear.LinearClassifier({'lossFunction': linear.HingeLoss(), 'lambda': 1, 'numIter': 500, 'stepSize': 0.0005})\n",
    "runClassifier.trainTestSet(f, datasets.WineDataBinary)"
   ],
   "metadata": {
    "collapsed": false,
    "pycharm": {
     "name": "#%%\n"
    }
   }
  },
  {
   "cell_type": "markdown",
   "source": [
    "#### Fine largest/smallest weights and their corresponding words."
   ],
   "metadata": {
    "collapsed": false
   }
  },
  {
   "cell_type": "code",
   "execution_count": 42,
   "outputs": [
    {
     "data": {
      "text/plain": "819"
     },
     "execution_count": 42,
     "metadata": {},
     "output_type": "execute_result"
    }
   ],
   "source": [
    "len(datasets.WineDataBinary.words)"
   ],
   "metadata": {
    "collapsed": false,
    "pycharm": {
     "name": "#%%\n"
    }
   }
  },
  {
   "cell_type": "code",
   "execution_count": 43,
   "outputs": [],
   "source": [
    "largest_weights_index = weights.argsort()[-5:][::-1]\n",
    "smallest_weighs_index = weights.argsort()[:5][::-1]"
   ],
   "metadata": {
    "collapsed": false,
    "pycharm": {
     "name": "#%%\n"
    }
   }
  },
  {
   "cell_type": "code",
   "execution_count": 44,
   "outputs": [
    {
     "data": {
      "text/plain": "array(['citrus', 'lime', 'crisp', 'tropical', 'acidity'], dtype='<U15')"
     },
     "execution_count": 44,
     "metadata": {},
     "output_type": "execute_result"
    }
   ],
   "source": [
    "np.asarray(datasets.WineDataBinary.words)[largest_weights_index]"
   ],
   "metadata": {
    "collapsed": false,
    "pycharm": {
     "name": "#%%\n"
    }
   }
  },
  {
   "cell_type": "code",
   "execution_count": 45,
   "outputs": [
    {
     "data": {
      "text/plain": "array(['dark', 'currant', 'cherry', 'berry', 'tannins'], dtype='<U15')"
     },
     "execution_count": 45,
     "metadata": {},
     "output_type": "execute_result"
    }
   ],
   "source": [
    "np.asarray(datasets.WineDataBinary.words)[smallest_weighs_index]\n"
   ],
   "metadata": {
    "collapsed": false,
    "pycharm": {
     "name": "#%%\n"
    }
   }
  },
  {
   "cell_type": "markdown",
   "source": [
    "The Top five positive is citrus, lime, crisp, tropocal, and acidity and the least five are dark, current, cherry, berry, tannins\n",
    "The positive words are related to description of Sauvignon-Blanc and the negative words should be describing the taste or the appearance of Cabernet-Sauvignon\n"
   ],
   "metadata": {
    "collapsed": false,
    "pycharm": {
     "name": "#%% md\n"
    }
   }
  }
 ],
 "metadata": {
  "kernelspec": {
   "name": "pycharm-c2dd2614",
   "language": "python",
   "display_name": "PyCharm (cmsc422_ml_project2)"
  },
  "language_info": {
   "codemirror_mode": {
    "name": "ipython",
    "version": 2
   },
   "file_extension": ".py",
   "mimetype": "text/x-python",
   "name": "python",
   "nbconvert_exporter": "python",
   "pygments_lexer": "ipython2",
   "version": "2.7.6"
  }
 },
 "nbformat": 4,
 "nbformat_minor": 0
}